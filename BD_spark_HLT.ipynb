{
 "cells": [
  {
   "cell_type": "markdown",
   "metadata": {},
   "source": [
    "<img src=\"bridge.jpg\" alt=\"concrete\">"
   ]
  },
  {
   "cell_type": "markdown",
   "metadata": {},
   "source": [
    "Concrete is the most important material in civil engineering. The concrete compressive strength is a highly nonlinear function of age and ingredients. These ingredients include cement, blast furnace slag, fly ash, \n",
    "water, superplasticizer, coarse aggregate, and fine aggregate. You will use these data to predict the compresive strength of a concrete block. The actual concrete compressive strength (MPa) for a given mixture  - our training  data was determined in a laboratory.   Data from [here](https://archive.ics.uci.edu/ml/datasets/Concrete+Compressive+Strength)\n",
    "  \n",
    "We now want to be able to predict concrete compressive strength without needing to measure it in a lab. You will need to read the data into spark, clean it by removing some missing values, and prepare it for model fitting. You will then need to fit an appropriate machine learning model, and output your predictions and saved model.  \n",
    "  \n",
    "You can find the data in the file **concrete.csv**. Once you have built your best model with these data. Please make predictions on these new data **concrete_unmeasured.csv** for which we do not know the concrete compressive strength.  "
   ]
  },
  {
   "cell_type": "markdown",
   "metadata": {},
   "source": [
    "### Start spark app"
   ]
  },
  {
   "cell_type": "code",
   "execution_count": 1,
   "metadata": {},
   "outputs": [],
   "source": [
    "import findspark\n",
    "findspark.init()"
   ]
  },
  {
   "cell_type": "code",
   "execution_count": 2,
   "metadata": {},
   "outputs": [],
   "source": [
    "from pyspark.sql import SparkSession\n",
    "\n",
    "spark = SparkSession \\\n",
    "    .builder \\\n",
    "    .appName(\"Spark_ml\") \\\n",
    "    .getOrCreate()"
   ]
  },
  {
   "cell_type": "markdown",
   "metadata": {},
   "source": [
    "### Load and clean data"
   ]
  },
  {
   "cell_type": "code",
   "execution_count": 3,
   "metadata": {},
   "outputs": [],
   "source": [
    "data = spark.read.csv(\"concrete.csv\",header=True)"
   ]
  },
  {
   "cell_type": "code",
   "execution_count": 4,
   "metadata": {},
   "outputs": [],
   "source": [
    "#get rid of unwanted columns\n",
    "data = data.drop('_c0')\n",
    "#drop nas\n",
    "data = data.dropna()"
   ]
  },
  {
   "cell_type": "code",
   "execution_count": 5,
   "metadata": {},
   "outputs": [
    {
     "name": "stdout",
     "output_type": "stream",
     "text": [
      "root\n",
      " |-- Cement_kgm3: string (nullable = true)\n",
      " |-- Blast_Furnace_Slag_kgm3: string (nullable = true)\n",
      " |-- Fly_Ash_kgm3: string (nullable = true)\n",
      " |-- Water_kgm3: string (nullable = true)\n",
      " |-- Superplasticizer_kgm3: string (nullable = true)\n",
      " |-- Coarse_Aggregate_kgm3: string (nullable = true)\n",
      " |-- Fine_Aggregate_kgm3: string (nullable = true)\n",
      " |-- Age_days: string (nullable = true)\n",
      " |-- Concrete_compressive_strength_MPa: string (nullable = true)\n",
      "\n"
     ]
    }
   ],
   "source": [
    "data.printSchema()"
   ]
  },
  {
   "cell_type": "code",
   "execution_count": 6,
   "metadata": {},
   "outputs": [],
   "source": [
    "# covert to numeric types\n",
    "#import double type from spark sql\n",
    "from pyspark.sql.types import DoubleType, IntegerType\n",
    "\n",
    "#convert all columns\n",
    "for col_name in data.columns:\n",
    "    data = data.withColumn(col_name, data[col_name].cast(DoubleType()))\n",
    "\n",
    "# Split the data into training and test sets (30% held out for testing)\n",
    "(trainingData, testData) = data.randomSplit([0.7, 0.3])"
   ]
  },
  {
   "cell_type": "code",
   "execution_count": 7,
   "metadata": {},
   "outputs": [
    {
     "name": "stdout",
     "output_type": "stream",
     "text": [
      "root\n",
      " |-- Cement_kgm3: double (nullable = true)\n",
      " |-- Blast_Furnace_Slag_kgm3: double (nullable = true)\n",
      " |-- Fly_Ash_kgm3: double (nullable = true)\n",
      " |-- Water_kgm3: double (nullable = true)\n",
      " |-- Superplasticizer_kgm3: double (nullable = true)\n",
      " |-- Coarse_Aggregate_kgm3: double (nullable = true)\n",
      " |-- Fine_Aggregate_kgm3: double (nullable = true)\n",
      " |-- Age_days: double (nullable = true)\n",
      " |-- Concrete_compressive_strength_MPa: double (nullable = true)\n",
      "\n"
     ]
    }
   ],
   "source": [
    "data.printSchema()"
   ]
  },
  {
   "cell_type": "markdown",
   "metadata": {},
   "source": [
    "### Prepare data for model"
   ]
  },
  {
   "cell_type": "code",
   "execution_count": 8,
   "metadata": {},
   "outputs": [],
   "source": [
    "from pyspark.ml import Pipeline\n",
    "from pyspark.ml.feature import OneHotEncoder, VectorAssembler\n",
    "from pyspark.ml.regression import DecisionTreeRegressor\n",
    "from pyspark.ml.evaluation import RegressionEvaluator"
   ]
  },
  {
   "cell_type": "code",
   "execution_count": 10,
   "metadata": {},
   "outputs": [],
   "source": [
    "# assemble variables to one feature column\n",
    "assembler = VectorAssembler(\n",
    "    inputCols = [\"Cement_kgm3\",\"Blast_Furnace_Slag_kgm3\",\"Fly_Ash_kgm3\",\"Water_kgm3\",\"Superplasticizer_kgm3\",\n",
    "                 \"Coarse_Aggregate_kgm3\",\"Fine_Aggregate_kgm3\",\"Age_days\"],\n",
    "    outputCol = \"features\")\n",
    "\n",
    "#define the estimator - decision tree\n",
    "dt = DecisionTreeRegressor(labelCol=\"Concrete_compressive_strength_MPa\", featuresCol=\"features\")\n",
    "\n",
    "# Chain indexers and tree in a Pipeline\n",
    "pipeline = Pipeline(stages=[assembler, dt])"
   ]
  },
  {
   "cell_type": "markdown",
   "metadata": {},
   "source": [
    "### Fit pipeline and transform data"
   ]
  },
  {
   "cell_type": "code",
   "execution_count": 11,
   "metadata": {},
   "outputs": [],
   "source": [
    "#fit the pipeline\n",
    "PipelineModel = pipeline.fit(trainingData)\n",
    "\n",
    "# transform using the pipeline\n",
    "predictions = PipelineModel.transform(testData)\n",
    "\n",
    "# evaluate model fit\n",
    "predictions.select(\"prediction\", \"Concrete_compressive_strength_MPa\")\n",
    "evaluator = RegressionEvaluator(\n",
    "    labelCol=\"Concrete_compressive_strength_MPa\", predictionCol=\"prediction\", metricName=\"rmse\")\n",
    "rmse = evaluator.evaluate(predictions)"
   ]
  },
  {
   "cell_type": "code",
   "execution_count": 12,
   "metadata": {},
   "outputs": [
    {
     "name": "stdout",
     "output_type": "stream",
     "text": [
      "+-----------+-----------------------+------------+----------+---------------------+---------------------+-------------------+--------+---------------------------------+--------------------+------------------+\n",
      "|Cement_kgm3|Blast_Furnace_Slag_kgm3|Fly_Ash_kgm3|Water_kgm3|Superplasticizer_kgm3|Coarse_Aggregate_kgm3|Fine_Aggregate_kgm3|Age_days|Concrete_compressive_strength_MPa|            features|        prediction|\n",
      "+-----------+-----------------------+------------+----------+---------------------+---------------------+-------------------+--------+---------------------------------+--------------------+------------------+\n",
      "|      102.0|                  153.0|         0.0|     192.0|                  0.0|                887.0|              942.0|     3.0|                      4.565020596|[102.0,153.0,0.0,...|4.6649946159999995|\n",
      "|      108.3|                  162.4|         0.0|     203.5|                  0.0|                938.2|              849.0|     7.0|                      7.723510152|[108.3,162.4,0.0,...|      10.322145196|\n",
      "|      116.0|                  173.0|         0.0|     192.0|                  0.0|                909.8|              891.9|     3.0|                      6.280436884|[116.0,173.0,0.0,...|4.6649946159999995|\n",
      "|      116.0|                  173.0|         0.0|     192.0|                  0.0|                909.8|              891.9|    90.0|                     31.023662096|[116.0,173.0,0.0,...|32.500657583199995|\n",
      "|      122.6|                  183.9|         0.0|     203.5|                  0.0|                958.2|              800.1|    90.0|                     33.192064116|[122.6,183.9,0.0,...|38.422065372326394|\n",
      "|      133.0|                  200.0|         0.0|     192.0|                  0.0|                927.4|              839.2|     3.0|                      6.883728384|[133.0,200.0,0.0,...|4.6649946159999995|\n",
      "|      133.0|                  210.0|         0.0|     196.0|                  3.0|                949.0|              795.0|    28.0|                         31.02642|[133.0,210.0,0.0,...|31.136109938678896|\n",
      "|      134.7|                    0.0|       165.7|     180.2|                 10.0|                961.0|              804.9|    28.0|                     13.293786756|[134.7,0.0,165.7,...|14.749631746095236|\n",
      "|      135.0|                    0.0|       166.0|     180.0|                 10.0|                961.0|              805.0|    28.0|                      13.29309728|[135.0,0.0,166.0,...|14.749631746095236|\n",
      "|      135.0|                  105.0|       193.0|     196.0|                  6.0|                965.0|              643.0|    28.0|                      21.91154728|[135.0,105.0,193....|31.136109938678896|\n",
      "|      136.0|                  196.0|        98.0|     199.0|                  6.0|                847.0|              783.0|    28.0|                      26.96540636|[136.0,196.0,98.0...|31.136109938678896|\n",
      "|      136.4|                  161.6|       125.8|     171.6|                 10.4|                922.6|              764.4|    28.0|                     29.073134492|[136.4,161.6,125....|31.136109938678896|\n",
      "|      141.3|                  212.0|         0.0|     203.5|                  0.0|                971.8|              748.5|     7.0|                       10.3938507|[141.3,212.0,0.0,...|      10.322145196|\n",
      "|      141.3|                  212.0|         0.0|     203.5|                  0.0|                971.8|              748.5|    90.0|                       39.6621069|[141.3,212.0,0.0,...| 51.98710189942451|\n",
      "|      141.9|                  166.6|       129.7|     173.5|                 10.9|                882.6|              785.3|    28.0|                     44.611855104|[141.9,166.6,129....|31.136109938678896|\n",
      "|      142.0|                  167.0|       130.0|     174.0|                 11.0|                883.0|              785.0|    28.0|                       44.6090972|[142.0,167.0,130....|31.136109938678896|\n",
      "|      143.0|                  169.4|       142.7|     190.7|                  8.4|                967.4|              643.5|    28.0|                     29.726068264|[143.0,169.4,142....|31.136109938678896|\n",
      "|      144.0|                    0.0|       175.0|     158.0|                 18.0|                943.0|              844.0|    28.0|                      15.41668336|[144.0,0.0,175.0,...|14.749631746095236|\n",
      "|      144.0|                  170.0|       133.0|     192.0|                  8.0|                814.0|              805.0|    28.0|                      29.86810032|[144.0,170.0,133....|31.136109938678896|\n",
      "|      144.8|                    0.0|       133.6|     180.8|                 11.1|                979.5|              811.5|    28.0|                     13.202086448|[144.8,0.0,133.6,...|14.749631746095236|\n",
      "+-----------+-----------------------+------------+----------+---------------------+---------------------+-------------------+--------+---------------------------------+--------------------+------------------+\n",
      "only showing top 20 rows\n",
      "\n"
     ]
    }
   ],
   "source": [
    "predictions.show()"
   ]
  },
  {
   "cell_type": "code",
   "execution_count": 13,
   "metadata": {},
   "outputs": [
    {
     "name": "stdout",
     "output_type": "stream",
     "text": [
      "8.285171559920602\n"
     ]
    }
   ],
   "source": [
    "##Root mean square error\n",
    "print(rmse)"
   ]
  },
  {
   "cell_type": "code",
   "execution_count": 14,
   "metadata": {},
   "outputs": [],
   "source": [
    "#save the fitted pipeline for later use\n",
    "PipelineModel.save(\"my_pipeline\")"
   ]
  },
  {
   "cell_type": "markdown",
   "metadata": {},
   "source": [
    "### Predict new data"
   ]
  },
  {
   "cell_type": "code",
   "execution_count": 15,
   "metadata": {},
   "outputs": [],
   "source": [
    "dataUnseen = spark.read.csv(\"concrete_unmeasured.csv\",header=True)"
   ]
  },
  {
   "cell_type": "code",
   "execution_count": 16,
   "metadata": {},
   "outputs": [],
   "source": [
    "#get rid of unwanted columns\n",
    "dataUnseen = data.drop('_c0')\n",
    "#drop nas\n",
    "dataUnseen = data.dropna()"
   ]
  },
  {
   "cell_type": "code",
   "execution_count": 17,
   "metadata": {},
   "outputs": [
    {
     "name": "stdout",
     "output_type": "stream",
     "text": [
      "root\n",
      " |-- Cement_kgm3: double (nullable = true)\n",
      " |-- Blast_Furnace_Slag_kgm3: double (nullable = true)\n",
      " |-- Fly_Ash_kgm3: double (nullable = true)\n",
      " |-- Water_kgm3: double (nullable = true)\n",
      " |-- Superplasticizer_kgm3: double (nullable = true)\n",
      " |-- Coarse_Aggregate_kgm3: double (nullable = true)\n",
      " |-- Fine_Aggregate_kgm3: double (nullable = true)\n",
      " |-- Age_days: double (nullable = true)\n",
      " |-- Concrete_compressive_strength_MPa: double (nullable = true)\n",
      "\n"
     ]
    }
   ],
   "source": [
    "dataUnseen.printSchema()"
   ]
  },
  {
   "cell_type": "code",
   "execution_count": 18,
   "metadata": {},
   "outputs": [],
   "source": [
    "# covert to numeric types\n",
    "#import double type from spark sql\n",
    "from pyspark.sql.types import DoubleType, IntegerType\n",
    "\n",
    "#convert all columns\n",
    "for col_name in dataUnseen.columns:\n",
    "    dataUnseen = dataUnseen.withColumn(col_name, dataUnseen[col_name].cast(DoubleType()))"
   ]
  },
  {
   "cell_type": "code",
   "execution_count": 19,
   "metadata": {},
   "outputs": [],
   "source": [
    "myPipe =PipelineModel.load(\"my_pipeline\")"
   ]
  },
  {
   "cell_type": "code",
   "execution_count": 20,
   "metadata": {},
   "outputs": [],
   "source": [
    "predictionsUnseenData = myPipe.transform(dataUnseen)"
   ]
  },
  {
   "cell_type": "code",
   "execution_count": 21,
   "metadata": {},
   "outputs": [
    {
     "name": "stdout",
     "output_type": "stream",
     "text": [
      "+-----------+-----------------------+------------+----------+---------------------+---------------------+-------------------+--------+---------------------------------+--------------------+------------------+\n",
      "|Cement_kgm3|Blast_Furnace_Slag_kgm3|Fly_Ash_kgm3|Water_kgm3|Superplasticizer_kgm3|Coarse_Aggregate_kgm3|Fine_Aggregate_kgm3|Age_days|Concrete_compressive_strength_MPa|            features|        prediction|\n",
      "+-----------+-----------------------+------------+----------+---------------------+---------------------+-------------------+--------+---------------------------------+--------------------+------------------+\n",
      "|      540.0|                    0.0|         0.0|     162.0|                  2.5|               1040.0|              676.0|    28.0|                      79.98611076|[540.0,0.0,0.0,16...|60.334321070000065|\n",
      "|      540.0|                    0.0|         0.0|     162.0|                  2.5|               1055.0|              676.0|    28.0|                      61.88736576|[540.0,0.0,0.0,16...|60.334321070000065|\n",
      "|      332.5|                  142.5|         0.0|     228.0|                  0.0|                932.0|              594.0|   270.0|                     40.269535256|[332.5,142.5,0.0,...| 41.22111063257143|\n",
      "|      332.5|                  142.5|         0.0|     228.0|                  0.0|                932.0|              594.0|   365.0|                     41.052779992|[332.5,142.5,0.0,...| 41.22111063257143|\n",
      "|      198.6|                  132.4|         0.0|     192.0|                  0.0|                978.4|              825.5|   360.0|                     44.296075096|[198.6,132.4,0.0,...|38.422065372326394|\n",
      "|      266.0|                  114.0|         0.0|     228.0|                  0.0|                932.0|              670.0|    90.0|                     47.029847436|[266.0,114.0,0.0,...| 51.98710189942451|\n",
      "|      380.0|                   95.0|         0.0|     228.0|                  0.0|                932.0|              594.0|   365.0|                     43.698299404|[380.0,95.0,0.0,2...| 41.22111063257143|\n",
      "|      380.0|                   95.0|         0.0|     228.0|                  0.0|                932.0|              594.0|    28.0|                     36.447769788|[380.0,95.0,0.0,2...|32.406855418060594|\n",
      "|      266.0|                  114.0|         0.0|     228.0|                  0.0|                932.0|              670.0|    28.0|                     45.854290856|[266.0,114.0,0.0,...|32.406855418060594|\n",
      "|      475.0|                    0.0|         0.0|     228.0|                  0.0|                932.0|              594.0|    28.0|                      39.28978986|[475.0,0.0,0.0,22...| 52.26662980246154|\n",
      "|      198.6|                  132.4|         0.0|     192.0|                  0.0|                978.4|              825.5|    90.0|                     38.074243672|[198.6,132.4,0.0,...|38.422065372326394|\n",
      "|      198.6|                  132.4|         0.0|     192.0|                  0.0|                978.4|              825.5|    28.0|                     28.021683592|[198.6,132.4,0.0,...|31.136109938678896|\n",
      "|      427.5|                   47.5|         0.0|     228.0|                  0.0|                932.0|              594.0|   270.0|                      43.01296026|[427.5,47.5,0.0,2...| 41.22111063257143|\n",
      "|      190.0|                  190.0|         0.0|     228.0|                  0.0|                932.0|              670.0|    90.0|                      42.32693164|[190.0,190.0,0.0,...| 51.98710189942451|\n",
      "|      304.0|                   76.0|         0.0|     228.0|                  0.0|                932.0|              670.0|    28.0|                     47.813781648|[304.0,76.0,0.0,2...|32.406855418060594|\n",
      "|      380.0|                    0.0|         0.0|     228.0|                  0.0|                932.0|              670.0|    90.0|                     52.908319812|[380.0,0.0,0.0,22...| 51.98710189942451|\n",
      "|      139.6|                  209.4|         0.0|     192.0|                  0.0|               1047.0|              806.9|    90.0|                     39.358047984|[139.6,209.4,0.0,...|38.422065372326394|\n",
      "|      380.0|                   95.0|         0.0|     228.0|                  0.0|                932.0|              594.0|    90.0|                     40.563252032|[380.0,95.0,0.0,2...| 41.22111063257143|\n",
      "|      475.0|                    0.0|         0.0|     228.0|                  0.0|                932.0|              594.0|   180.0|                     42.620648416|[475.0,0.0,0.0,22...| 41.22111063257143|\n",
      "|      427.5|                   47.5|         0.0|     228.0|                  0.0|                932.0|              594.0|   180.0|                     41.836714204|[427.5,47.5,0.0,2...| 41.22111063257143|\n",
      "+-----------+-----------------------+------------+----------+---------------------+---------------------+-------------------+--------+---------------------------------+--------------------+------------------+\n",
      "only showing top 20 rows\n",
      "\n"
     ]
    }
   ],
   "source": [
    "predictionsUnseenData.show()"
   ]
  },
  {
   "cell_type": "markdown",
   "metadata": {},
   "source": [
    "### END"
   ]
  }
 ],
 "metadata": {
  "kernelspec": {
   "display_name": "Python 3",
   "language": "python",
   "name": "python3"
  },
  "language_info": {
   "codemirror_mode": {
    "name": "ipython",
    "version": 3
   },
   "file_extension": ".py",
   "mimetype": "text/x-python",
   "name": "python",
   "nbconvert_exporter": "python",
   "pygments_lexer": "ipython3",
   "version": "3.6.5"
  }
 },
 "nbformat": 4,
 "nbformat_minor": 2
}
