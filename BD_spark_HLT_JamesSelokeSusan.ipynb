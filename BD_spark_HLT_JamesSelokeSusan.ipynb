{
 "cells": [
  {
   "cell_type": "markdown",
   "metadata": {},
   "source": [
    "<img src=\"bridge.jpg\" alt=\"concrete\">"
   ]
  },
  {
   "cell_type": "markdown",
   "metadata": {},
   "source": [
    "Concrete is the most important material in civil engineering. The concrete compressive strength is a highly nonlinear function of age and ingredients. These ingredients include cement, blast furnace slag, fly ash, \n",
    "water, superplasticizer, coarse aggregate, and fine aggregate. You will use these data to predict the compresive strength of a concrete block. The actual concrete compressive strength (MPa) for a given mixture  - our training  data was determined in a laboratory.   Data from [here](https://archive.ics.uci.edu/ml/datasets/Concrete+Compressive+Strength)\n",
    "  \n",
    "We now want to be able to predict concrete compressive strength without needing to measure it in a lab. You will need to read the data into spark, clean it by removing some missing values, and prepare it for model fitting. You will then need to fit an appropriate machine learning model, and output your predictions and saved model.  \n",
    "  \n",
    "You can find the data in the file **concrete.csv**. Once you have built your best model with these data. Please make predictions on these new data **concrete_unmeasured.csv** for which we do not know the concrete compressive strength.  "
   ]
  },
  {
   "cell_type": "markdown",
   "metadata": {},
   "source": [
    "## Group: James Clay, Seloke Fabiao, Susan Mani "
   ]
  },
  {
   "cell_type": "markdown",
   "metadata": {},
   "source": [
    "### Start spark app"
   ]
  },
  {
   "cell_type": "code",
   "execution_count": 1,
   "metadata": {},
   "outputs": [],
   "source": [
    "# Import and intialise spark\n",
    "import findspark\n",
    "findspark.init()"
   ]
  },
  {
   "cell_type": "code",
   "execution_count": 2,
   "metadata": {},
   "outputs": [],
   "source": [
    "# Start spark app session\n",
    "import pandas as pd\n",
    "from pyspark.sql import SparkSession\n",
    "spark = SparkSession \\\n",
    "    .builder \\\n",
    "    .appName(\"Spark_ML_Concrete\") \\\n",
    "    .getOrCreate()"
   ]
  },
  {
   "cell_type": "markdown",
   "metadata": {},
   "source": [
    "### Load and clean data"
   ]
  },
  {
   "cell_type": "code",
   "execution_count": 3,
   "metadata": {},
   "outputs": [
    {
     "name": "stdout",
     "output_type": "stream",
     "text": [
      "+-----------+-----------------------+------------+----------+---------------------+---------------------+-------------------+--------+---------------------------------+\n",
      "|Cement_kgm3|Blast_Furnace_Slag_kgm3|Fly_Ash_kgm3|Water_kgm3|Superplasticizer_kgm3|Coarse_Aggregate_kgm3|Fine_Aggregate_kgm3|Age_days|Concrete_compressive_strength_MPa|\n",
      "+-----------+-----------------------+------------+----------+---------------------+---------------------+-------------------+--------+---------------------------------+\n",
      "|        540|                      0|           0|       162|                  2.5|                 1040|                676|      28|                      79.98611076|\n",
      "|        540|                      0|           0|       162|                  2.5|                 1055|                676|      28|                      61.88736576|\n",
      "|      332.5|                  142.5|           0|       228|                    0|                  932|                594|     270|                     40.269535256|\n",
      "|      332.5|                  142.5|           0|       228|                    0|                  932|                594|     365|                     41.052779992|\n",
      "|      198.6|                  132.4|           0|       192|                    0|                978.4|              825.5|     360|                     44.296075096|\n",
      "|        266|                    114|           0|       228|                    0|                  932|                670|      90|                     47.029847436|\n",
      "|        380|                     95|           0|       228|                    0|                  932|                594|     365|                     43.698299404|\n",
      "|        380|                     95|           0|       228|                    0|                  932|                594|      28|                     36.447769788|\n",
      "|        266|                    114|           0|       228|                    0|                  932|                670|      28|                     45.854290856|\n",
      "|        475|                      0|           0|       228|                    0|                  932|                594|      28|                      39.28978986|\n",
      "|      198.6|                  132.4|           0|       192|                    0|                978.4|              825.5|      90|                     38.074243672|\n",
      "|      198.6|                  132.4|           0|       192|                    0|                978.4|              825.5|      28|                     28.021683592|\n",
      "|      427.5|                   47.5|           0|       228|                    0|                  932|                594|     270|                      43.01296026|\n",
      "|        190|                    190|           0|       228|                    0|                  932|                670|      90|                      42.32693164|\n",
      "|        304|                     76|           0|       228|                    0|                  932|                670|      28|                     47.813781648|\n",
      "|        380|                      0|           0|       228|                    0|                  932|                670|      90|                     52.908319812|\n",
      "|      139.6|                  209.4|           0|       192|                    0|                 1047|              806.9|      90|                     39.358047984|\n",
      "|        342|                     38|           0|      null|                    0|                  932|               null|     365|                     56.141962252|\n",
      "|        380|                     95|           0|       228|                    0|                  932|                594|      90|                     40.563252032|\n",
      "|        475|                      0|           0|       228|                    0|                  932|                594|     180|                     42.620648416|\n",
      "+-----------+-----------------------+------------+----------+---------------------+---------------------+-------------------+--------+---------------------------------+\n",
      "only showing top 20 rows\n",
      "\n"
     ]
    }
   ],
   "source": [
    "# load sensor.csv into dataframe and view 20 top rows\n",
    "df = spark.read.csv(\"concrete.csv\",header=True)\n",
    "df.show()"
   ]
  },
  {
   "cell_type": "code",
   "execution_count": 4,
   "metadata": {},
   "outputs": [],
   "source": [
    "# Drop nulls and missing values\n",
    "df = df.dropna()"
   ]
  },
  {
   "cell_type": "code",
   "execution_count": 5,
   "metadata": {},
   "outputs": [
    {
     "name": "stdout",
     "output_type": "stream",
     "text": [
      "root\n",
      " |-- Cement_kgm3: string (nullable = true)\n",
      " |-- Blast_Furnace_Slag_kgm3: string (nullable = true)\n",
      " |-- Fly_Ash_kgm3: string (nullable = true)\n",
      " |-- Water_kgm3: string (nullable = true)\n",
      " |-- Superplasticizer_kgm3: string (nullable = true)\n",
      " |-- Coarse_Aggregate_kgm3: string (nullable = true)\n",
      " |-- Fine_Aggregate_kgm3: string (nullable = true)\n",
      " |-- Age_days: string (nullable = true)\n",
      " |-- Concrete_compressive_strength_MPa: string (nullable = true)\n",
      "\n"
     ]
    }
   ],
   "source": [
    "# Check schema for column types\n",
    "df.printSchema()"
   ]
  },
  {
   "cell_type": "code",
   "execution_count": 6,
   "metadata": {},
   "outputs": [],
   "source": [
    "# Convert to numeric types\n",
    "# Import double type from spark sql\n",
    "from pyspark.sql.types import DoubleType, IntegerType\n",
    "\n",
    "# Convert all columns to numeric\n",
    "for col_name in df.columns:\n",
    "    df = df.withColumn(col_name, df[col_name].cast(DoubleType()))"
   ]
  },
  {
   "cell_type": "code",
   "execution_count": 7,
   "metadata": {},
   "outputs": [],
   "source": [
    "# Split the data into training and test sets (30% held out for testing)\n",
    "(trainingData, testData) = df.randomSplit([0.7, 0.3])"
   ]
  },
  {
   "cell_type": "markdown",
   "metadata": {},
   "source": [
    "### Prepare data for model"
   ]
  },
  {
   "cell_type": "code",
   "execution_count": 8,
   "metadata": {},
   "outputs": [],
   "source": [
    "# Import necessary libraries\n",
    "from pyspark.ml import Pipeline\n",
    "from pyspark.ml.feature import OneHotEncoder, VectorAssembler\n",
    "from pyspark.ml.regression import DecisionTreeRegressor\n",
    "from pyspark.ml.evaluation import RegressionEvaluator"
   ]
  },
  {
   "cell_type": "code",
   "execution_count": 9,
   "metadata": {},
   "outputs": [],
   "source": [
    "# Assemble variables to one feature column\n",
    "assembler = VectorAssembler(\n",
    "    inputCols = [\"Cement_kgm3\", \"Blast_Furnace_Slag_kgm3\",\"Fly_Ash_kgm3\", \"Water_kgm3\", \"Superplasticizer_kgm3\", \"Coarse_Aggregate_kgm3\"\n",
    "                , \"Fine_Aggregate_kgm3\", \"Age_days\" ],\n",
    "    outputCol = \"features\")\n",
    "\n",
    "# Define the estimator - decision tree\n",
    "dt = DecisionTreeRegressor(labelCol=\"Concrete_compressive_strength_MPa\", featuresCol=\"features\")\n",
    "\n",
    "# Chain indexers and tree in a Pipeline\n",
    "pipeline = Pipeline(stages=[assembler, dt])"
   ]
  },
  {
   "cell_type": "markdown",
   "metadata": {},
   "source": [
    "### Fit pipeline and transform data"
   ]
  },
  {
   "cell_type": "code",
   "execution_count": 10,
   "metadata": {},
   "outputs": [],
   "source": [
    "# Fit the pipeline\n",
    "PipelineModel = pipeline.fit(trainingData)\n",
    "\n",
    "# Transform using the pipeline\n",
    "predictions = PipelineModel.transform(testData)\n",
    "\n",
    "# Evaluate model fit\n",
    "predictions.select(\"prediction\", \"Concrete_compressive_strength_MPa\")\n",
    "evaluator = RegressionEvaluator(\n",
    "    labelCol=\"Concrete_compressive_strength_MPa\", predictionCol=\"prediction\", metricName=\"rmse\")\n",
    "rmse = evaluator.evaluate(predictions)"
   ]
  },
  {
   "cell_type": "code",
   "execution_count": 11,
   "metadata": {},
   "outputs": [
    {
     "name": "stdout",
     "output_type": "stream",
     "text": [
      "8.464713620609379\n"
     ]
    }
   ],
   "source": [
    "# Print Root mean square error\n",
    "print(rmse)"
   ]
  },
  {
   "cell_type": "code",
   "execution_count": 12,
   "metadata": {},
   "outputs": [
    {
     "name": "stdout",
     "output_type": "stream",
     "text": [
      "+-----------+-----------------------+------------+----------+---------------------+---------------------+-------------------+--------+---------------------------------+--------------------+------------------+\n",
      "|Cement_kgm3|Blast_Furnace_Slag_kgm3|Fly_Ash_kgm3|Water_kgm3|Superplasticizer_kgm3|Coarse_Aggregate_kgm3|Fine_Aggregate_kgm3|Age_days|Concrete_compressive_strength_MPa|            features|        prediction|\n",
      "+-----------+-----------------------+------------+----------+---------------------+---------------------+-------------------+--------+---------------------------------+--------------------+------------------+\n",
      "|      102.0|                  153.0|         0.0|     192.0|                  0.0|                887.0|              942.0|     7.0|                      7.675936308|[102.0,153.0,0.0,...|7.9039460211999994|\n",
      "|      102.0|                  153.0|         0.0|     192.0|                  0.0|                887.0|              942.0|    90.0|                     25.460969728|[102.0,153.0,0.0,...|26.005562595567568|\n",
      "|      108.3|                  162.4|         0.0|     203.5|                  0.0|                938.2|              849.0|     7.0|                      7.723510152|[108.3,162.4,0.0,...|7.9039460211999994|\n",
      "|      108.3|                  162.4|         0.0|     203.5|                  0.0|                938.2|              849.0|    28.0|                     20.593958644|[108.3,162.4,0.0,...|26.005562595567568|\n",
      "|      108.3|                  162.4|         0.0|     203.5|                  0.0|                938.2|              849.0|    90.0|                     29.231713972|[108.3,162.4,0.0,...|26.005562595567568|\n",
      "|      116.0|                  173.0|         0.0|     192.0|                  0.0|                909.8|              891.9|     3.0|                      6.280436884|[116.0,173.0,0.0,...|7.9039460211999994|\n",
      "|      122.6|                  183.9|         0.0|     203.5|                  0.0|                958.2|              800.1|     7.0|                     10.354550568|[122.6,183.9,0.0,...|7.9039460211999994|\n",
      "|      134.7|                    0.0|       165.7|     180.2|                 10.0|                961.0|              804.9|    28.0|                     13.293786756|[134.7,0.0,165.7,...|14.798453213333334|\n",
      "|      135.0|                  105.0|       193.0|     196.0|                  6.0|                965.0|              643.0|    28.0|                      21.91154728|[135.0,105.0,193....|26.005562595567568|\n",
      "|      135.7|                  203.5|         0.0|     185.7|                  0.0|               1076.2|              759.3|     7.0|                      7.507014688|[135.7,203.5,0.0,...|7.9039460211999994|\n",
      "|      136.0|                  196.0|        98.0|     199.0|                  6.0|                847.0|              783.0|    28.0|                      26.96540636|[136.0,196.0,98.0...| 32.91805486233333|\n",
      "|      139.6|                  209.4|         0.0|     192.0|                  0.0|               1047.0|              806.9|     3.0|                       8.06342182|[139.6,209.4,0.0,...|7.9039460211999994|\n",
      "|      139.6|                  209.4|         0.0|     192.0|                  0.0|               1047.0|              806.9|    28.0|                      28.23748958|[139.6,209.4,0.0,...| 32.91805486233333|\n",
      "|      139.6|                  209.4|         0.0|     192.0|                  0.0|               1047.0|              806.9|   360.0|                     44.698039604|[139.6,209.4,0.0,...| 32.91805486233333|\n",
      "|      139.7|                  163.9|       127.7|     236.7|                  5.8|                868.6|              655.6|    28.0|                      35.22532884|[139.7,163.9,127....|26.005562595567568|\n",
      "|      139.9|                  132.6|       103.3|     200.3|                  7.4|                916.0|              753.4|    28.0|                     36.443632932|[139.9,132.6,103....|26.005562595567568|\n",
      "|      141.3|                  212.0|         0.0|     203.5|                  0.0|                971.8|              748.5|    90.0|                       39.6621069|[141.3,212.0,0.0,...| 32.91805486233333|\n",
      "|      143.7|                  170.2|       132.6|     191.6|                  8.5|                814.1|              805.3|    28.0|                     29.870858224|[143.7,170.2,132....|26.005562595567568|\n",
      "|      144.0|                    0.0|       175.0|     158.0|                 18.0|                943.0|              844.0|    28.0|                      15.41668336|[144.0,0.0,175.0,...|14.798453213333334|\n",
      "|      144.0|                   15.0|       195.0|     176.0|                  6.0|               1021.0|              709.0|    28.0|                        15.340841|[144.0,15.0,195.0...|26.005562595567568|\n",
      "+-----------+-----------------------+------------+----------+---------------------+---------------------+-------------------+--------+---------------------------------+--------------------+------------------+\n",
      "only showing top 20 rows\n",
      "\n"
     ]
    }
   ],
   "source": [
    "# Show predictions\n",
    "predictions.show(5)"
   ]
  },
  {
   "cell_type": "markdown",
   "metadata": {},
   "source": [
    "### Predict new data"
   ]
  },
  {
   "cell_type": "code",
   "execution_count": 13,
   "metadata": {},
   "outputs": [
    {
     "name": "stdout",
     "output_type": "stream",
     "text": [
      "+-----------+-----------------------+------------+----------+---------------------+---------------------+-------------------+--------+\n",
      "|Cement_kgm3|Blast_Furnace_Slag_kgm3|Fly_Ash_kgm3|Water_kgm3|Superplasticizer_kgm3|Coarse_Aggregate_kgm3|Fine_Aggregate_kgm3|Age_days|\n",
      "+-----------+-----------------------+------------+----------+---------------------+---------------------+-------------------+--------+\n",
      "|        425|                  106.3|           0|     153.5|                 16.5|                852.1|              887.1|      28|\n",
      "|        425|                  106.3|           0|     151.4|                 18.6|                  936|              803.7|      28|\n",
      "|        375|                   93.8|           0|     126.6|                 23.4|                852.1|              992.6|      28|\n",
      "|        475|                  118.8|           0|     181.1|                  8.9|                852.1|              781.5|      28|\n",
      "|        469|                  117.2|           0|     137.8|                 32.2|                852.1|              840.5|      28|\n",
      "+-----------+-----------------------+------------+----------+---------------------+---------------------+-------------------+--------+\n",
      "only showing top 5 rows\n",
      "\n"
     ]
    }
   ],
   "source": [
    "# Load concrete_unmeasured.csv into dataframe and view 5 top rows\n",
    "df_unmeasured = spark.read.csv(\"concrete_unmeasured.csv\",header=True)\n",
    "df_unmeasured.show(5)"
   ]
  },
  {
   "cell_type": "code",
   "execution_count": 14,
   "metadata": {},
   "outputs": [],
   "source": [
    "# Drop missing values\n",
    "df_unmeasured = df_unmeasured.dropna()"
   ]
  },
  {
   "cell_type": "code",
   "execution_count": 15,
   "metadata": {},
   "outputs": [
    {
     "name": "stdout",
     "output_type": "stream",
     "text": [
      "root\n",
      " |-- Cement_kgm3: string (nullable = true)\n",
      " |-- Blast_Furnace_Slag_kgm3: string (nullable = true)\n",
      " |-- Fly_Ash_kgm3: string (nullable = true)\n",
      " |-- Water_kgm3: string (nullable = true)\n",
      " |-- Superplasticizer_kgm3: string (nullable = true)\n",
      " |-- Coarse_Aggregate_kgm3: string (nullable = true)\n",
      " |-- Fine_Aggregate_kgm3: string (nullable = true)\n",
      " |-- Age_days: string (nullable = true)\n",
      "\n"
     ]
    }
   ],
   "source": [
    "# Check schema for column types\n",
    "df_unmeasured.printSchema()"
   ]
  },
  {
   "cell_type": "code",
   "execution_count": 16,
   "metadata": {},
   "outputs": [],
   "source": [
    "# Convert all columns to numeric fields\n",
    "for col_name in df_unmeasured.columns:\n",
    "    df_unmeasured = df_unmeasured.withColumn(col_name, df_unmeasured[col_name].cast(DoubleType()))"
   ]
  },
  {
   "cell_type": "code",
   "execution_count": 17,
   "metadata": {},
   "outputs": [],
   "source": [
    "# Use model created to predict Concrete_compressive_strength_MPa\n",
    "df_pred = PipelineModel.transform(df_unmeasured)"
   ]
  },
  {
   "cell_type": "code",
   "execution_count": 18,
   "metadata": {},
   "outputs": [
    {
     "name": "stdout",
     "output_type": "stream",
     "text": [
      "+-----------+-----------------------+------------+----------+---------------------+---------------------+-------------------+--------+--------------------+------------------+\n",
      "|Cement_kgm3|Blast_Furnace_Slag_kgm3|Fly_Ash_kgm3|Water_kgm3|Superplasticizer_kgm3|Coarse_Aggregate_kgm3|Fine_Aggregate_kgm3|Age_days|            features|        prediction|\n",
      "+-----------+-----------------------+------------+----------+---------------------+---------------------+-------------------+--------+--------------------+------------------+\n",
      "|      425.0|                  106.3|         0.0|     153.5|                 16.5|                852.1|              887.1|    28.0|[425.0,106.3,0.0,...|57.841684753937336|\n",
      "|      425.0|                  106.3|         0.0|     151.4|                 18.6|                936.0|              803.7|    28.0|[425.0,106.3,0.0,...|57.841684753937336|\n",
      "|      375.0|                   93.8|         0.0|     126.6|                 23.4|                852.1|              992.6|    28.0|[375.0,93.8,0.0,1...|57.841684753937336|\n",
      "|      475.0|                  118.8|         0.0|     181.1|                  8.9|                852.1|              781.5|    28.0|[475.0,118.8,0.0,...|57.841684753937336|\n",
      "|      469.0|                  117.2|         0.0|     137.8|                 32.2|                852.1|              840.5|    28.0|[469.0,117.2,0.0,...|57.841684753937336|\n",
      "+-----------+-----------------------+------------+----------+---------------------+---------------------+-------------------+--------+--------------------+------------------+\n",
      "only showing top 5 rows\n",
      "\n"
     ]
    }
   ],
   "source": [
    "# View top 5 predictions\n",
    "df_pred.show(5)"
   ]
  },
  {
   "cell_type": "markdown",
   "metadata": {},
   "source": [
    "### END"
   ]
  },
  {
   "cell_type": "code",
   "execution_count": 19,
   "metadata": {},
   "outputs": [],
   "source": [
    "# Close spark session\n",
    "spark.stop()"
   ]
  },
  {
   "cell_type": "code",
   "execution_count": null,
   "metadata": {},
   "outputs": [],
   "source": []
  }
 ],
 "metadata": {
  "kernelspec": {
   "display_name": "Python 3",
   "language": "python",
   "name": "python3"
  },
  "language_info": {
   "codemirror_mode": {
    "name": "ipython",
    "version": 3
   },
   "file_extension": ".py",
   "mimetype": "text/x-python",
   "name": "python",
   "nbconvert_exporter": "python",
   "pygments_lexer": "ipython3",
   "version": "3.6.5"
  }
 },
 "nbformat": 4,
 "nbformat_minor": 2
}
